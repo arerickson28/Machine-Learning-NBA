{
 "cells": [
  {
   "cell_type": "code",
   "execution_count": null,
   "metadata": {},
   "outputs": [],
   "source": [
    "# Dependencies\n",
    "import requests\n",
    "import pandas as pd"
   ]
  },
  {
   "cell_type": "code",
   "execution_count": null,
   "metadata": {},
   "outputs": [],
   "source": [
    "# Base URL for GET requests to retrieve data\n",
    "url = \"https://www.balldontlie.io/api/v1/stats\""
   ]
  },
  {
   "cell_type": "code",
   "execution_count": null,
   "metadata": {},
   "outputs": [],
   "source": [
    "# Make an API call to the \"date\" API and convert response object to JSON\n",
    "query_url = f\"{url}?seasons[]=2014&start_date=2014-11-01&end_date=2020-11-01\"\n",
    "page = 0\n",
    "# retreived_stat = {}"
   ]
  },
  {
   "cell_type": "code",
   "execution_count": null,
   "metadata": {},
   "outputs": [],
   "source": [
    "# Not sure how else to do this, so copying ali's code and adding to hers\n",
    "# Create empty dataframe\n",
    "col_names = ['season', 'ast', 'blk', 'dreb', 'fg3_pc', 'fg3a', 'fg3m', 'fg_pct', 'fga', 'fgm', 'ft_pct', 'fta', 'ftm',\n",
    "            'game_id', 'date', 'home_team', 'homete_team_id', 'home_team_score', 'visitor_team_id', 'visitor_team_score',\n",
    "            'minutes', 'oreb', 'pf', 'pts', 'reb', 'stl', 'turnover',\n",
    "            'player_id', 'first_name', 'last_name', 'player_position', 'weight', 'height_ft', 'height_inch',\n",
    "             'team_city', 'team_conference', 'team_division', 'team_name', 'team_short']\n",
    "games_df = pd.DataFrame(columns=col_names)"
   ]
  },
  {
   "cell_type": "code",
   "execution_count": null,
   "metadata": {},
   "outputs": [],
   "source": [
    "years = [2014]#, 2015, 2016, 2017, 2018]\n",
    "for y in years:\n",
    "    games_url = f'https://www.balldontlie.io/api/v1/games?seasons[]={y}'\n",
    "    data = requests.get(games_url).json()\n",
    "    \n",
    "    for i in data['data']:\n",
    "        # This appends to the row according to Ali\n",
    "        games_df.loc[len(games_df.index)] = i['ast']\n",
    "\n",
    "    "
   ]
  },
  {
   "cell_type": "code",
   "execution_count": null,
   "metadata": {},
   "outputs": [],
   "source": [
    "data"
   ]
  },
  {
   "cell_type": "code",
   "execution_count": null,
   "metadata": {},
   "outputs": [],
   "source": [
    "# # Empty list to store data requested\n",
    "# season = []\n",
    "# ast = []\n",
    "# blk = []\n",
    "# dreb = []\n",
    "# fg3_pct = []\n",
    "# fg3a = []\n",
    "# fg3m = []\n",
    "# fg_pct = []\n",
    "# fga = []\n",
    "# fgm = []\n",
    "# ft_pct = []\n",
    "# fta = []\n",
    "# ftm = []\n",
    "# # 'game'\n",
    "# game_id = []\n",
    "# date = []\n",
    "# home_team = []\n",
    "# homete_team_id = []\n",
    "# home_team_score = []\n",
    "# visitor_team_id = []\n",
    "# visitor_team_score = []\n",
    "# #### OMGFG FOR REAL? #### There must be a better way\n",
    "# minutes = []\n",
    "# oreb = []\n",
    "# pf = []\n",
    "# # 'player'\n",
    "# player_id = []\n",
    "# first_name = []\n",
    "# last_name = []\n",
    "# player_position = []\n",
    "# weight = []\n",
    "# height_ft = []\n",
    "# height_inch = []\n",
    "# #### seriously there must be a better way ####\n",
    "# pts = []\n",
    "# reb = []\n",
    "# stl = []\n",
    "# turnover = []\n",
    "# # 'team'\n",
    "# team_city = []\n",
    "# team_conference = []\n",
    "# team_division = []\n",
    "# team_name = []\n",
    "# team_short = []"
   ]
  },
  {
   "cell_type": "code",
   "execution_count": null,
   "metadata": {},
   "outputs": [],
   "source": [
    "response = requests.get(query_url)\n",
    "output = response.json()"
   ]
  },
  {
   "cell_type": "code",
   "execution_count": null,
   "metadata": {},
   "outputs": [],
   "source": [
    "output['data'][i]['player']['first_name']\n",
    "output['data'][i]['player']['last_name']"
   ]
  },
  {
   "cell_type": "code",
   "execution_count": null,
   "metadata": {},
   "outputs": [],
   "source": [
    "retreived_stat"
   ]
  },
  {
   "cell_type": "code",
   "execution_count": null,
   "metadata": {},
   "outputs": [],
   "source": [
    "games_df"
   ]
  },
  {
   "cell_type": "code",
   "execution_count": null,
   "metadata": {},
   "outputs": [],
   "source": []
  }
 ],
 "metadata": {
  "kernelspec": {
   "display_name": "Python 3",
   "language": "python",
   "name": "python3"
  },
  "language_info": {
   "codemirror_mode": {
    "name": "ipython",
    "version": 3
   },
   "file_extension": ".py",
   "mimetype": "text/x-python",
   "name": "python",
   "nbconvert_exporter": "python",
   "pygments_lexer": "ipython3",
   "version": "3.6.12"
  }
 },
 "nbformat": 4,
 "nbformat_minor": 4
}
